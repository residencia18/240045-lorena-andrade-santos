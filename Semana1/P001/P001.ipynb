{
 "cells": [
  {
   "cell_type": "code",
   "execution_count": null,
   "id": "bf867cdd-6f22-4d88-854e-861f75735937",
   "metadata": {},
   "outputs": [],
   "source": []
  },
  {
   "cell_type": "markdown",
   "id": "c4713de6-7038-4270-b7dd-57019efac8a2",
   "metadata": {},
   "source": [
    "○ Demonstre a possibilidade de representar números inteiros significativamente grandes calculando o fatorial de 30 e \n",
    "comparando o resultado com o maior valor inteiro que pode ser representado em C/C++;\n"
   ]
  },
  {
   "cell_type": "markdown",
   "id": "cfc7d2c9-051c-471c-8df1-ad16d985495e",
   "metadata": {},
   "source": [
    "Exercício 2: Manipulação de variáveis de tipo inteiro, explorando as características e os limites.\n",
    "\n",
    "● Durante a aula foi apresentado o tipo de dado que permite representar um subconjunto dos números inteiros. Sobre estes tipos de dados:\n",
    "\n",
    "○ Demonstre como funcionam os operadores aritméticos e aritméticos compostos em Python e destaque as principais novidades e diferenças\n",
    "em relação ao conjunto de operadores com inteiros disponíveis em C/C++ ;"
   ]
  },
  {
   "cell_type": "markdown",
   "id": "cdc49f4c-7119-4515-b2a0-e5e88e65e42a",
   "metadata": {},
   "source": [
    "Os operadores aritméticos e compostos funcionam de maneira semelhante aos de C/C++ com algumas diferenças.\n",
    "Aqui estão alguns exemplos de operadores aritméticos e compostos em Python:\n",
    "\n",
    "1. **Operadores Aritméticos:**\n",
    "   - `+`: Soma dois valores.\n",
    "   - `-`: Subtrai o operando direito do operando esquerdo.\n",
    "   - `*`: Multiplica dois valores.\n",
    "   - `/`: Divide o operando esquerdo pelo operando direito (o resultado é sempre um número de ponto flutuante).\n",
    "   - `//`: Divide e arredonda para baixo para o número inteiro mais próximo.\n",
    "   - `%`: Retorna o resto da divisão.\n",
    "   - `**`: Calcula a potência."
   ]
  },
  {
   "cell_type": "code",
   "execution_count": 3,
   "id": "644eb321-17e8-4cbb-9c54-64b3f9a52952",
   "metadata": {},
   "outputs": [
    {
     "name": "stdout",
     "output_type": "stream",
     "text": [
      "23 17 60 6.666666666666667 6 2 8000\n"
     ]
    }
   ],
   "source": [
    "num1 = 20\n",
    "num2 = 3\n",
    "\n",
    "soma = num1 + num2\n",
    "subtracao = num1 - num2\n",
    "multiplicacao = num1 * num2\n",
    "divisao = num1 / num2\n",
    "divisao2 = num1 // num2\n",
    "resto = num1 % num2\n",
    "potencia = num1 ** num2\n",
    "\n",
    "print(soma, subtracao, multiplicacao, divisao, divisao2, resto, potencia)"
   ]
  },
  {
   "cell_type": "markdown",
   "id": "b588b446-8aa2-40a5-9d13-98d9f8b961a5",
   "metadata": {},
   "source": [
    "2. **Operadores Compostos:**\n",
    "   - `+=`: Adição e atribuição.\n",
    "   - `-=`: Subtração e atribuição.\n",
    "   - `*=`: Multiplicação e atribuição.\n",
    "   - `/=`: Divisão e atribuição.\n",
    "   - `//=`: Divisão de piso e atribuição.\n",
    "   - `%=`: Resto da divisão e atribuição.\n",
    "   - `**=`: Exponenciação e atribuição."
   ]
  },
  {
   "cell_type": "code",
   "execution_count": 18,
   "id": "ad2e66f2-5cd8-4077-a51e-42ca5fb0c184",
   "metadata": {
    "tags": []
   },
   "outputs": [
    {
     "name": "stdout",
     "output_type": "stream",
     "text": [
      "num1= 18\n",
      "num1= 15\n",
      "num1= 45\n",
      "num1= 15.0\n",
      "num1= 5.0\n",
      "num1= 125.0\n",
      "num1= 2.0\n"
     ]
    }
   ],
   "source": [
    "num1 = 15\n",
    "num2 = 3\n",
    "\n",
    "num1 += num2  # num1 = num1 + num2\n",
    "print(\"num1=\", num1)\n",
    "\n",
    "num1 -= num2  # num1 = num1 - num2\n",
    "print(\"num1=\", num1)\n",
    "\n",
    "num1 *= num2  # num1: num1 = num1 * num2\n",
    "print(\"num1=\", num1)\n",
    "\n",
    "num1 /= num2  # num1 = num1 / num2\n",
    "print(\"num1=\", num1)\n",
    "\n",
    "num1 //= num2  # num1 = num1 // num2\n",
    "print(\"num1=\", num1)\n",
    "\n",
    "num1 **= num2 # num1 = num1 ** num2\n",
    "print(\"num1=\", num1)\n",
    "\n",
    "num1 %= num2  # num1 = num1 % num2\n",
    "print(\"num1=\", num1)\n"
   ]
  },
  {
   "cell_type": "markdown",
   "id": "2a30ed8b-9be3-4443-8a4f-14031c6ce9ac",
   "metadata": {},
   "source": [
    "○ As variáveis numéricas são imutáveis. Demonstre com exemplos as implicações desta afirmação;\n",
    "\n",
    "**resp**: uma vez que um valor numérico é atribuído a uma variável, esse valor não pode ser alterado diretamente. \n",
    "Isso se aplica apenas a números inteiros e ponto flutuante."
   ]
  },
  {
   "cell_type": "code",
   "execution_count": 8,
   "id": "4198452b-fa86-4394-a753-fd3ff1b02ffb",
   "metadata": {
    "tags": []
   },
   "outputs": [
    {
     "name": "stdout",
     "output_type": "stream",
     "text": [
      "Antes da alteração:\n",
      "x: 5\n",
      "y: 5\n",
      "Depois da alteração:\n",
      "x: 6\n",
      "y: 5\n"
     ]
    }
   ],
   "source": [
    "x = 5\n",
    "y = x\n",
    "\n",
    "print(\"Antes da alteração:\")\n",
    "print(\"x:\", x)\n",
    "print(\"y:\", y)\n",
    "\n",
    "x = x + 1\n",
    "\n",
    "print(\"Depois da alteração:\")\n",
    "print(\"x:\", x)\n",
    "print(\"y:\", y)  # A variável y permanece inalterada"
   ]
  },
  {
   "cell_type": "markdown",
   "id": "9e516ede-a066-4b75-8cfa-ff2db1653b25",
   "metadata": {},
   "source": [
    "○ Verifique quais métodos estão disponíveis para as variáveis inteiras;"
   ]
  },
  {
   "cell_type": "code",
   "execution_count": 20,
   "id": "c9423862-6e4d-47b1-84a0-a9018808bd7a",
   "metadata": {
    "tags": []
   },
   "outputs": [
    {
     "name": "stdout",
     "output_type": "stream",
     "text": [
      "Convertido para string: 10\n",
      "Soma dos inteiros: 15\n",
      "Valor máximo: 10\n",
      "Valor mínimo: 2\n",
      "Valor absoluto: 10\n"
     ]
    }
   ],
   "source": [
    "#Números inteiros são objetos em Python e por isso eles têm métodos associados. Segue alguns:\n",
    "x = 10\n",
    "\n",
    "# Método para converter o inteiro em uma string\n",
    "x_str = str(x)\n",
    "print(\"Convertido para string:\", x_str)\n",
    "\n",
    "# Função para calcular a soma de uma sequência de números inteiros (a partir do Python 3.3)\n",
    "sum_of_integers = sum([1, 2, 3, 4, 5])\n",
    "print(\"Soma dos inteiros:\", sum_of_integers)\n",
    "\n",
    "# Função para encontrar o máximo em uma sequência de números inteiros\n",
    "maximum_value = max(2, 8, 5, 10)\n",
    "print(\"Valor máximo:\", maximum_value)\n",
    "\n",
    "# Função para encontrar o mínimo em uma sequência de números inteiros\n",
    "minimum_value = min(2, 8, 5, 10)\n",
    "print(\"Valor mínimo:\", minimum_value)\n",
    "\n",
    "# Método para calcular o valor absoluto\n",
    "absolute_value = abs(x)\n",
    "print(\"Valor absoluto:\", absolute_value)"
   ]
  },
  {
   "cell_type": "markdown",
   "id": "a712d032-6b7b-42ed-b688-5280065cb732",
   "metadata": {},
   "source": [
    "**Exercício 3:**\n",
    "\n",
    "○ Imprima na tela, utilizando print, cada um dos caracteres numéricos e seu correspondente código numérico.\n",
    "Pesquise como modificar o comportamento do print para imprimir como caractere e como número.\n",
    "Exemplo:‘0’ - 48\n",
    "‘1’ - 49\n",
    "…\n",
    "‘9’ - 57"
   ]
  },
  {
   "cell_type": "code",
   "execution_count": 21,
   "id": "91aa8535-a888-4436-bc31-c81ad80b7d60",
   "metadata": {},
   "outputs": [
    {
     "name": "stdout",
     "output_type": "stream",
     "text": [
      "Parte 1:\n",
      "'0' - 48\n",
      "'1' - 49\n",
      "'2' - 50\n",
      "'3' - 51\n",
      "'4' - 52\n",
      "'5' - 53\n",
      "'6' - 54\n",
      "'7' - 55\n",
      "'8' - 56\n",
      "'9' - 57\n"
     ]
    }
   ],
   "source": [
    "for i in range(10):\n",
    "    char = str(i)\n",
    "    print(f\"'{char}' - {ord(char)}\")"
   ]
  },
  {
   "cell_type": "markdown",
   "id": "5fffb121-f74d-4815-9fb3-2ffd1d85e896",
   "metadata": {},
   "source": [
    "○ Modifique o exercício anterior para que a saída imprima também o código numérico em octal e em hexadecimal.\n"
   ]
  },
  {
   "cell_type": "code",
   "execution_count": 22,
   "id": "b6b8515c-6ce3-47b5-a205-2f68ca0aac1a",
   "metadata": {},
   "outputs": [
    {
     "name": "stdout",
     "output_type": "stream",
     "text": [
      "'0' - Decimal: 48, Octal: 0o60, Hexadecimal: 0x30\n",
      "'1' - Decimal: 49, Octal: 0o61, Hexadecimal: 0x31\n",
      "'2' - Decimal: 50, Octal: 0o62, Hexadecimal: 0x32\n",
      "'3' - Decimal: 51, Octal: 0o63, Hexadecimal: 0x33\n",
      "'4' - Decimal: 52, Octal: 0o64, Hexadecimal: 0x34\n",
      "'5' - Decimal: 53, Octal: 0o65, Hexadecimal: 0x35\n",
      "'6' - Decimal: 54, Octal: 0o66, Hexadecimal: 0x36\n",
      "'7' - Decimal: 55, Octal: 0o67, Hexadecimal: 0x37\n",
      "'8' - Decimal: 56, Octal: 0o70, Hexadecimal: 0x38\n",
      "'9' - Decimal: 57, Octal: 0o71, Hexadecimal: 0x39\n"
     ]
    }
   ],
   "source": [
    "for i in range(10):\n",
    "    char = str(i)\n",
    "    print(f\"'{char}' - Decimal: {ord(char)}, Octal: {oct(ord(char))}, Hexadecimal: {hex(ord(char))}\")"
   ]
  },
  {
   "cell_type": "markdown",
   "id": "6cf2ecfe-07da-4337-a72f-97df8217af05",
   "metadata": {},
   "source": [
    "○ Acrescente ao código do exercício anterior a possibilidade de ler um caractere qualquer e imprima no mesmo formato do inciso anterior.\n",
    "Pesquise como ler um valor da entrada padrão."
   ]
  },
  {
   "cell_type": "code",
   "execution_count": 23,
   "id": "24329e06-59bf-48f3-a5b6-a037fefaf6e1",
   "metadata": {},
   "outputs": [
    {
     "name": "stdin",
     "output_type": "stream",
     "text": [
      "Digite um caractere:  k\n"
     ]
    },
    {
     "name": "stdout",
     "output_type": "stream",
     "text": [
      "'k' - Decimal: 107, Octal: 0o153, Hexadecimal: 0x6b\n"
     ]
    }
   ],
   "source": [
    "input_char = input(\"Digite um caractere: \")\n",
    "print(f\"'{input_char}' - Decimal: {ord(input_char)}, Octal: {oct(ord(input_char))}, Hexadecimal: {hex(ord(input_char))}\")"
   ]
  },
  {
   "cell_type": "markdown",
   "id": "ca19603b-b095-48d7-bcb2-8270af5dd022",
   "metadata": {},
   "source": [
    "○ Pesquise como trabalha Python os caracteres especiais, ‘ç’ e ‘ã’ por exemplo. \n",
    "Acrescente no código do exercício anterior um exemplo que demonstra como usar este recurso.\n",
    "**resp**: Python suporta caracteres especiais, como 'ç' e 'ã', por meio da codificação de caracteres Unicode. Unicode é um padrão internacional que associa a cada caractere um número único chamado ponto de código. "
   ]
  },
  {
   "cell_type": "code",
   "execution_count": 25,
   "id": "ecff0698-7b1e-42d3-9d05-2095738e3e99",
   "metadata": {},
   "outputs": [
    {
     "name": "stdout",
     "output_type": "stream",
     "text": [
      "'ç' - Decimal: 231, Hexadecimal: 0xe7\n",
      "'ã' - Decimal: 227, Hexadecimal: 0xe3\n"
     ]
    }
   ],
   "source": [
    "# Caracteres especiais 'ç' e 'ã'\n",
    "char1 = 'ç'\n",
    "char2 = 'ã'\n",
    "\n",
    "# Imprimir caracteres especiais\n",
    "print(f\"'{char1}' - Decimal: {ord(char1)}, Hexadecimal: {hex(ord(char1))}\")\n",
    "print(f\"'{char2}' - Decimal: {ord(char2)}, Hexadecimal: {hex(ord(char2))}\")"
   ]
  },
  {
   "cell_type": "markdown",
   "id": "a7d502b6-f830-4806-9b25-a10ed9905889",
   "metadata": {},
   "source": [
    "**Exercício 4:**\n",
    "○ Declare uma variável nome atribuindo a ela seu nome completo;\n",
    "○ Verifique qual das duas novas variáveis antecede a outra na ordem alfabética;\n",
    "○ Verifique a quantidade de caracteres de cada uma das novas variáveis;\n",
    "○ Verifique se seu nome é uma palíndromo;"
   ]
  },
  {
   "cell_type": "code",
   "execution_count": 33,
   "id": "f7144d1a-efd2-43c9-a27e-6f336df41e34",
   "metadata": {
    "tags": []
   },
   "outputs": [
    {
     "name": "stdout",
     "output_type": "stream",
     "text": [
      "Lista com nomes: ['Lorena', 'Andrade', 'Santos']\n",
      "Nome: Lorena\n",
      "Sobrenome: Andrade Santos\n",
      "Andrade Santos antecede Lorena na ordem alfabética.\n",
      "Quantidade de caracteres no nome: 6\n",
      "Quantidade de caracteres no sobrenome: 14\n",
      "lorena não é um palíndromo.\n"
     ]
    }
   ],
   "source": [
    "nome = \"Lorena Andrade Santos\"\n",
    "\n",
    "lista_nome = nome.split(\" \")\n",
    "\n",
    "print(\"Lista com nomes:\", lista_nome)\n",
    "nome = lista_nome[0]\n",
    "sobrenome = lista_nome[1] + ' ' + lista_nome[2]\n",
    "\n",
    "print(\"Nome:\", nome)\n",
    "print(\"Sobrenome:\", sobrenome)\n",
    "\n",
    "if nome < sobrenome:\n",
    "    print(f\"{nome} antecede {sobrenome} na ordem alfabética.\")\n",
    "elif nome > sobrenome:\n",
    "    print(f\"{sobrenome} antecede {nome} na ordem alfabética.\")\n",
    "else:\n",
    "    print(\"Os nomes são iguais na ordem alfabética.\")\n",
    "\n",
    "\n",
    "print(f\"Quantidade de caracteres no nome: {len(nome)}\")\n",
    "print(f\"Quantidade de caracteres no sobrenome: {len(sobrenome)}\")\n",
    "\n",
    "nome_minusculo = nome.lower()\n",
    "nome_invertido = nome_minusculo[::-1]\n",
    "\n",
    "if nome_minusculo == nome_invertido:\n",
    "    print(f\"{nome_minusculo} é um palíndromo.\")\n",
    "else:\n",
    "    print(f\"{nome_minusculo} não é um palíndromo.\")"
   ]
  },
  {
   "cell_type": "markdown",
   "id": "a8aaee8d-1fa8-482d-9450-208690aaa421",
   "metadata": {},
   "source": [
    "**Exercício 5:**\n",
    "○ Demonstre como funcionam os operadores aritméticos e aritméticos compostos em Python;"
   ]
  },
  {
   "cell_type": "code",
   "execution_count": 34,
   "id": "746e0c0d-abaf-4b17-9cda-efe69ecbece1",
   "metadata": {
    "tags": []
   },
   "outputs": [
    {
     "name": "stdout",
     "output_type": "stream",
     "text": [
      "Soma: 5.779999999999999\n",
      "Subtração: 0.8199999999999998\n",
      "Multiplicação: 8.184\n",
      "Divisão: 1.3306451612903225\n",
      "num1 após operação composta: 4.3\n",
      "num2 após operação composta: 4.96\n"
     ]
    }
   ],
   "source": [
    "num1 = 3.3\n",
    "num2 = 2.48\n",
    "\n",
    "# Operadores aritméticos\n",
    "soma = num1 + num2\n",
    "subtracao = num1 - num2\n",
    "multiplicacao = num1 * num2\n",
    "divisao = num1 / num2\n",
    "\n",
    "# Operadores aritméticos compostos\n",
    "num1 += 1  # num1 = num1 + 1\n",
    "num2 *= 2  # num2 = num2 * 2\n",
    "\n",
    "print(\"Soma:\", soma)\n",
    "print(\"Subtração:\", subtracao)\n",
    "print(\"Multiplicação:\", multiplicacao)\n",
    "print(\"Divisão:\", divisao)\n",
    "print(\"num1 após operação composta:\", num1)\n",
    "print(\"num2 após operação composta:\", num2)\n"
   ]
  },
  {
   "cell_type": "code",
   "execution_count": null,
   "id": "0eaf89a5-88a3-496b-9132-a9e2d2cff891",
   "metadata": {},
   "outputs": [],
   "source": [
    "\n",
    "○ Utilizando o operador de exponenciação mostre qual a maior e a menor potência de 2 que pode ser representada com variáveis de\n",
    "ponto flutuante."
   ]
  },
  {
   "cell_type": "code",
   "execution_count": 38,
   "id": "4073df84-0134-4869-81ab-37e193d8b903",
   "metadata": {
    "tags": []
   },
   "outputs": [
    {
     "name": "stdout",
     "output_type": "stream",
     "text": [
      "Maior potência de 2 representável: 8.98846567431158e+307\n",
      "Menor potência de 2 representável: 2.2250738585072014e-308\n"
     ]
    }
   ],
   "source": [
    "maior_potencia_de_2 = 2.0 ** 1023\n",
    "print(\"Maior potência de 2 representável:\", maior_potencia_de_2)\n",
    "\n",
    "menor_potencia_de_2 = 2.0 ** -1022\n",
    "print(\"Menor potência de 2 representável:\", menor_potencia_de_2)"
   ]
  },
  {
   "cell_type": "markdown",
   "id": "2d4fbe86-8b6c-472f-8197-be1cfe983906",
   "metadata": {},
   "source": [
    "○ As variáveis numéricas são imutáveis. Demonstre com exemplos as implicações desta afirmação;"
   ]
  },
  {
   "cell_type": "code",
   "execution_count": 40,
   "id": "a7b1ca42-5054-4ff4-b5c9-2640e592cb09",
   "metadata": {
    "tags": []
   },
   "outputs": [
    {
     "name": "stdout",
     "output_type": "stream",
     "text": [
      "Antes da alteração:\n",
      "x: 5.2\n",
      "y: 5.2\n",
      "Depois da alteração:\n",
      "x: 6.800000000000001\n",
      "y: 5.2\n"
     ]
    }
   ],
   "source": [
    "x = 5.2\n",
    "y = x\n",
    "\n",
    "print(\"Antes da alteração:\")\n",
    "print(\"x:\", x)\n",
    "print(\"y:\", y)\n",
    "\n",
    "x = x + 1.6\n",
    "\n",
    "print(\"Depois da alteração:\")\n",
    "print(\"x:\", x)\n",
    "print(\"y:\", y)  # A variável y permanece inalterada"
   ]
  },
  {
   "cell_type": "markdown",
   "id": "0724e4bf-b416-40b1-a897-a6b99f376258",
   "metadata": {},
   "source": [
    "○ Verifique quais métodos estão disponíveis para as variáveis de ponto flutuante;"
   ]
  },
  {
   "cell_type": "code",
   "execution_count": 42,
   "id": "d27247d3-aef7-442f-8187-2665117f3e2a",
   "metadata": {
    "tags": []
   },
   "outputs": [
    {
     "name": "stdout",
     "output_type": "stream",
     "text": [
      "Arredondado: 3.14\n",
      "Formatado como string: 3.142\n"
     ]
    }
   ],
   "source": [
    "num = 3.14159\n",
    "\n",
    "# arredondamento\n",
    "arredondado = round(num, 2)\n",
    "print(\"Arredondado:\", arredondado)\n",
    "\n",
    "#string formatada\n",
    "formatado = format(num, \".3f\")\n",
    "print(\"Formatado como string:\", formatado)"
   ]
  },
  {
   "cell_type": "markdown",
   "id": "2273d298-a9e5-450c-ab4c-050b27887737",
   "metadata": {},
   "source": [
    "**Exercício 6:*** Manipulando listas\n",
    "\n",
    "Veja o que será impresso em cada caso:"
   ]
  },
  {
   "cell_type": "code",
   "execution_count": 44,
   "id": "b4cd317c-efa4-4560-9910-849ee9acc8d7",
   "metadata": {
    "tags": []
   },
   "outputs": [
    {
     "name": "stdout",
     "output_type": "stream",
     "text": [
      "[9, 8, 7, 6, 5, 4, 3, 2, 1]\n",
      "[9]\n",
      "[1, 2, 3, 4, 5, 6, 7, 8]\n",
      "[9, 7, 5, 3, 1]\n",
      "[8, 9]\n",
      "[1, 2, 3, 4, 5, 6, 7]\n"
     ]
    }
   ],
   "source": [
    "L = [1, 2, 3, 4, 5, 6, 7, 8, 9]\n",
    "print(\"L[::-1]: \", L[::-1]) #imprime a lista invertida\n",
    "print(\"L[-1::]: \", L[-1::]) #imprime apenas o último elemento\n",
    "print(\"L[:-1:]: \", L[:-1:]) #imprime a lista sem o ultimo elemento\n",
    "print(\"L[::-2]: \", L[::-2]) #imprime a lista invertida com apenas os elementos em posições pares (de dois em dois)\n",
    "print(\"L[-2::]: \", L[-2::]) #imprime os dois últimos elementos\n",
    "print(\"L[:-2:]: \", L[:-2:]) #imprime a lista sem os dois ultimos elementos"
   ]
  },
  {
   "cell_type": "markdown",
   "id": "d76720f6-a917-4d21-995c-bd5295415577",
   "metadata": {},
   "source": [
    "Descubra qual o signo de um usuário de acordo com seu ano de nascimento."
   ]
  },
  {
   "cell_type": "code",
   "execution_count": 53,
   "id": "e239a007-66a0-4a76-aba7-70170f8e2991",
   "metadata": {
    "tags": []
   },
   "outputs": [
    {
     "name": "stdin",
     "output_type": "stream",
     "text": [
      "Digite o ano de seu nascimento:  1983\n"
     ]
    },
    {
     "name": "stdout",
     "output_type": "stream",
     "text": [
      "Seu signo do horóscopo chinês é: Porco\n"
     ]
    }
   ],
   "source": [
    "input_char = input(\"Digite o ano de seu nascimento: \")\n",
    "\n",
    "animal = int(input_char) % 12\n",
    "\n",
    "if animal == 0:\n",
    "    sign = \"Macaco\"\n",
    "elif animal == 1:\n",
    "    sign = \"Galo\"\n",
    "elif animal == 2:\n",
    "    sign = \"Cão\"\n",
    "elif animal == 3:\n",
    "    sign = \"Porco\"\n",
    "elif animal == 4:\n",
    "    sign = \"Rato\"\n",
    "elif animal == 5:\n",
    "    sign = \"Boi\"\n",
    "elif animal == 6:\n",
    "    sign = \"Tigre\"\n",
    "elif animal == 7:\n",
    "    sign = \"Coelho\"\n",
    "elif animal == 8:\n",
    "    sign = \"Dragão\"\n",
    "elif animal == 9:\n",
    "    sign = \"Serpente\"\n",
    "elif animal == 10:\n",
    "    sign = \"Cavalo\"\n",
    "elif animal == 11:\n",
    "    sign = \"Carneiro\"\n",
    "else:\n",
    "    sign = \"Erro: Ano inválido\"\n",
    "\n",
    "print(f\"Seu signo do horóscopo chinês é: {sign}\")"
   ]
  }
 ],
 "metadata": {
  "kernelspec": {
   "display_name": "Python 3 (ipykernel)",
   "language": "python",
   "name": "python3"
  },
  "language_info": {
   "codemirror_mode": {
    "name": "ipython",
    "version": 3
   },
   "file_extension": ".py",
   "mimetype": "text/x-python",
   "name": "python",
   "nbconvert_exporter": "python",
   "pygments_lexer": "ipython3",
   "version": "3.11.5"
  }
 },
 "nbformat": 4,
 "nbformat_minor": 5
}
